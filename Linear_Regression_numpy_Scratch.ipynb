{
  "nbformat": 4,
  "nbformat_minor": 0,
  "metadata": {
    "colab": {
      "name": "Linear Regression numpy Scratch.ipynb",
      "provenance": [],
      "collapsed_sections": [],
      "authorship_tag": "ABX9TyMVURDSpOfoVt0DSPohwT4g",
      "include_colab_link": true
    },
    "kernelspec": {
      "name": "python3",
      "display_name": "Python 3"
    }
  },
  "cells": [
    {
      "cell_type": "markdown",
      "metadata": {
        "id": "view-in-github",
        "colab_type": "text"
      },
      "source": [
        "<a href=\"https://colab.research.google.com/github/PrayagPatel-007/Deep_Learning/blob/main/Linear_Regression_numpy_Scratch.ipynb\" target=\"_parent\"><img src=\"https://colab.research.google.com/assets/colab-badge.svg\" alt=\"Open In Colab\"/></a>"
      ]
    },
    {
      "cell_type": "code",
      "metadata": {
        "id": "ziDFosCGiPgW"
      },
      "source": [
        "import numpy as np\n",
        "from sklearn.datasets import load_boston\n",
        "import matplotlib.pyplot as plt\n",
        "\n",
        "dataset = load_boston()"
      ],
      "execution_count": null,
      "outputs": []
    },
    {
      "cell_type": "code",
      "metadata": {
        "id": "gT27ASCVl6Vd"
      },
      "source": [
        "X = dataset.data\n",
        "y = dataset.target[:, np.newaxis]\n",
        "\n",
        "\n",
        "# W\n",
        "# b = np.random.normal(shape = (1, ))\n",
        "\n",
        "# No of features = 13\n",
        "# parameters = 14\n",
        "# No of training examples = 506\n"
      ],
      "execution_count": null,
      "outputs": []
    },
    {
      "cell_type": "code",
      "metadata": {
        "id": "i_UQ_6jZmLRk"
      },
      "source": [
        "def loss_function(X, y, W):\n",
        "  h = np.dot(X, W) \n",
        "  return (1/(2*506)) * np.sum((h - y)** 2)"
      ],
      "execution_count": null,
      "outputs": []
    },
    {
      "cell_type": "code",
      "metadata": {
        "id": "-sgRL_2etwok"
      },
      "source": [
        "def gradient_descent(X, y, W, lr, n_iter):\n",
        "  History = np.zeros((n_iter, 1))\n",
        "\n",
        "  for i in range(n_iter):\n",
        "    h = np.dot(X, W) \n",
        "    W = W - (lr ) * (X.T @ (h - y))\n",
        "    loss = loss_function(X, y, W)\n",
        "    # b = b - lr * (h - y)\n",
        "    History[i] = loss\n",
        "  return (History, W)\n",
        "  "
      ],
      "execution_count": null,
      "outputs": []
    },
    {
      "cell_type": "code",
      "metadata": {
        "id": "jizofvuQuAaq"
      },
      "source": [
        "mean = np.mean(X, 0)\n",
        "std = np.std(X, 0)\n",
        "X = (X - mean)/std\n",
        "\n",
        "# X = np.hstack()\n",
        "p = np.ones((506,1))\n",
        "# print(p)\n",
        "# print(X)\n",
        "X = np.hstack((p, X))\n",
        "W = np.zeros((14, 1))"
      ],
      "execution_count": null,
      "outputs": []
    },
    {
      "cell_type": "code",
      "metadata": {
        "id": "n28TPhE52BFL",
        "outputId": "af7079bb-e5ac-44fc-dc94-46b0d1106592",
        "colab": {
          "base_uri": "https://localhost:8080/",
          "height": 329
        }
      },
      "source": [
        "n_iter = 1500\n",
        "lr = 0.0001\n",
        "\n",
        "initial_loss = loss_function(X, y, W)\n",
        "print(\"initial cost: \", initial_loss)\n",
        "\n",
        "(hist, param) = gradient_descent(X, y, W, lr, n_iter)\n",
        "\n",
        "print(\"Final cost is: \", hist[-1])\n",
        "\n",
        "plt.plot(range(len(hist)), hist, 'r')\n",
        "\n",
        "\n",
        "\n",
        "plt.title(\"Convergence Graph of Cost Function\")\n",
        "plt.xlabel(\"Number of Iterations\")\n",
        "plt.ylabel(\"Cost\")\n",
        "plt.show()"
      ],
      "execution_count": null,
      "outputs": [
        {
          "output_type": "stream",
          "text": [
            "initial cost:  296.0734584980237\n",
            "Final cost is:  [10.9474388]\n"
          ],
          "name": "stdout"
        },
        {
          "output_type": "display_data",
          "data": {
            "image/png": "[encoded data removed]",
            "text/plain": [
              "<Figure size 432x288 with 1 Axes>"
            ]
          },
          "metadata": {
            "tags": [],
            "needs_background": "light"
          }
        }
      ]
    },
    {
      "cell_type": "code",
      "metadata": {
        "id": "1gzXRevq9xnI",
        "outputId": "5dca7322-ceaa-4689-c3cf-8325c765cea7",
        "colab": {
          "base_uri": "https://localhost:8080/",
          "height": 618
        }
      },
      "source": [
        "import numpy as np\n",
        "from sklearn.datasets import load_boston\n",
        "import matplotlib.pyplot as plt\n",
        "\n",
        "dataset = load_boston()\n",
        "\n",
        "X = dataset.data\n",
        "y = dataset.target\n",
        "y = y.reshape((506, 1))\n",
        "\n",
        "def compute_cost(X, y, params):\n",
        "    # n_samples = len(y)\n",
        "    h = X @ params\n",
        "    return (1/(2*506))*np.sum((h-y)**2)\n",
        "\n",
        "def gradient_descent(X, y, params, learning_rate, n_iters):\n",
        "    n_samples = len(y)\n",
        "    J_history = np.zeros((n_iters,1))\n",
        "\n",
        "    for i in range(n_iters):\n",
        "        params = params - (learning_rate/n_samples) * X.T @ (X @ params - y) \n",
        "        J_history[i] = compute_cost(X, y, params)\n",
        "\n",
        "    return (J_history, params)\n",
        "\n",
        "n_samples = len(y)\n",
        "\n",
        "mu = np.mean(X, 0)\n",
        "sigma = np.std(X, 0)\n",
        "\n",
        "X = (X-mu) / sigma\n",
        "\n",
        "X = np.hstack((np.ones((n_samples,1)),X))\n",
        "n_features = np.size(X,1)\n",
        "params = np.zeros((n_features,1))\n",
        "\n",
        "n_iters = 1500\n",
        "learning_rate = 0.01\n",
        "\n",
        "initial_cost = compute_cost(X, y, params)\n",
        "\n",
        "print(\"Initial cost is: \", initial_cost, \"\\n\")\n",
        "\n",
        "(J_history, optimal_params) = gradient_descent(X, y, params, learning_rate, n_iters)\n",
        "\n",
        "print(\"Optimal parameters are: \\n\", optimal_params, \"\\n\")\n",
        "\n",
        "print(\"Final cost is: \", J_history[-1])\n",
        "\n",
        "plt.plot(range(len(J_history)), J_history, 'r')\n",
        "\n",
        "plt.title(\"Convergence Graph of Cost Function\")\n",
        "plt.xlabel(\"Number of Iterations\")\n",
        "plt.ylabel(\"Cost\")\n",
        "plt.show()\n",
        "\n"
      ],
      "execution_count": null,
      "outputs": [
        {
          "output_type": "stream",
          "text": [
            "Initial cost is:  296.0734584980237 \n",
            "\n",
            "Optimal parameters are: \n",
            " [[22.53279993]\n",
            " [-0.83980839]\n",
            " [ 0.92612237]\n",
            " [-0.17541988]\n",
            " [ 0.72676226]\n",
            " [-1.82369448]\n",
            " [ 2.78447498]\n",
            " [-0.05650494]\n",
            " [-2.96695543]\n",
            " [ 1.80785186]\n",
            " [-1.1802415 ]\n",
            " [-1.99990382]\n",
            " [ 0.85595908]\n",
            " [-3.69524414]] \n",
            "\n",
            "Final cost is:  [11.00713381]\n"
          ],
          "name": "stdout"
        },
        {
          "output_type": "display_data",
          "data": {
            "image/png": "[encoded data removed]",
            "text/plain": [
              "<Figure size 432x288 with 1 Axes>"
            ]
          },
          "metadata": {
            "tags": [],
            "needs_background": "light"
          }
        }
      ]
    },
    {
      "cell_type": "code",
      "metadata": {
        "id": "dA3MUpEkC-Ns"
      },
      "source": [
        ""
      ],
      "execution_count": null,
      "outputs": []
    },
    {
      "cell_type": "code",
      "metadata": {
        "id": "M-5ibxDVIa-Y"
      },
      "source": [
        ""
      ],
      "execution_count": null,
      "outputs": []
    },
    {
      "cell_type": "markdown",
      "metadata": {
        "id": "O5GCJEdTIbiN"
      },
      "source": [
        "#Simplest One"
      ]
    },
    {
      "cell_type": "code",
      "metadata": {
        "id": "sEOnH2snIfxg"
      },
      "source": [
        "import numpy as np\n",
        "import matplotlib.pyplot as plt\n",
        "from sklearn.datasets import load_boston\n",
        "\n",
        "dataset = load_boston()"
      ],
      "execution_count": null,
      "outputs": []
    },
    {
      "cell_type": "code",
      "metadata": {
        "id": "SBjn2-9CIs5s",
        "outputId": "295a95e2-7ae8-43bc-9e9d-19c237183fe1",
        "colab": {
          "base_uri": "https://localhost:8080/",
          "height": 51
        }
      },
      "source": [
        "X = dataset.data\n",
        "y = dataset.target[:, np.newaxis]\n",
        "# y = y.reshape((506, 1))\n",
        "\n",
        "print(X.shape)\n",
        "print(y.shape)"
      ],
      "execution_count": null,
      "outputs": [
        {
          "output_type": "stream",
          "text": [
            "(506, 13)\n",
            "(506, 1)\n"
          ],
          "name": "stdout"
        }
      ]
    },
    {
      "cell_type": "code",
      "metadata": {
        "id": "Hcv7-8jVI68v"
      },
      "source": [
        "def loss_func(X, y, b, W):\n",
        "  z = np.dot(X, W) + b\n",
        "  return (0.5) * np.mean((z - y) ** 2)"
      ],
      "execution_count": null,
      "outputs": []
    },
    {
      "cell_type": "code",
      "metadata": {
        "id": "XC992a8rJXXf"
      },
      "source": [
        "W = np.zeros((13, 1))\n",
        "b = np.zeros((1))"
      ],
      "execution_count": null,
      "outputs": []
    },
    {
      "cell_type": "code",
      "metadata": {
        "id": "74hKn7eaM8Kv"
      },
      "source": [
        "mean = np.mean(X, 0)\n",
        "std = np.std(X, 0)\n",
        "\n",
        "X = (X - mean)/std"
      ],
      "execution_count": null,
      "outputs": []
    },
    {
      "cell_type": "code",
      "metadata": {
        "id": "tc8YHco7Jtcn",
        "outputId": "96f85de5-7ed1-4e06-ffb2-93f180d5dc30",
        "colab": {
          "base_uri": "https://localhost:8080/",
          "height": 301
        }
      },
      "source": [
        "lr = 0.01\n",
        "epochs = 1500\n",
        "\n",
        "print(loss_func(X, y, b, W))\n",
        "loss = np.zeros((epochs, ))\n",
        "for i in range(epochs):\n",
        "  z = np.dot(X, W) + b\n",
        "  W = W - (lr/506) * np.dot(X.T, (z - y))\n",
        "  b = b - lr * np.mean(z - y)\n",
        "  loss[i] = loss_func(X, y, b, W)\n",
        "\n",
        "print(loss[-1])\n",
        "plt.plot(range(epochs), loss, 'r')\n",
        "plt.show()"
      ],
      "execution_count": null,
      "outputs": [
        {
          "output_type": "stream",
          "text": [
            "296.0734584980237\n",
            "11.007133812462987\n"
          ],
          "name": "stdout"
        },
        {
          "output_type": "display_data",
          "data": {
            "image/png": "[encoded data removed]",
            "text/plain": [
              "<Figure size 432x288 with 1 Axes>"
            ]
          },
          "metadata": {
            "tags": [],
            "needs_background": "light"
          }
        }
      ]
    },
    {
      "cell_type": "code",
      "metadata": {
        "id": "Sz7QyG8lLkzf",
        "outputId": "18a31440-afb3-4ac2-9820-72109f447db8",
        "colab": {
          "base_uri": "https://localhost:8080/",
          "height": 510
        }
      },
      "source": [
        "p = np.zeros((5, 5))\n",
        "q = np.ones((5,1,5))\n",
        "\n",
        "c = p + q\n",
        "print(c)"
      ],
      "execution_count": null,
      "outputs": [
        {
          "output_type": "stream",
          "text": [
            "[[[1. 1. 1. 1. 1.]\n",
            "  [1. 1. 1. 1. 1.]\n",
            "  [1. 1. 1. 1. 1.]\n",
            "  [1. 1. 1. 1. 1.]\n",
            "  [1. 1. 1. 1. 1.]]\n",
            "\n",
            " [[1. 1. 1. 1. 1.]\n",
            "  [1. 1. 1. 1. 1.]\n",
            "  [1. 1. 1. 1. 1.]\n",
            "  [1. 1. 1. 1. 1.]\n",
            "  [1. 1. 1. 1. 1.]]\n",
            "\n",
            " [[1. 1. 1. 1. 1.]\n",
            "  [1. 1. 1. 1. 1.]\n",
            "  [1. 1. 1. 1. 1.]\n",
            "  [1. 1. 1. 1. 1.]\n",
            "  [1. 1. 1. 1. 1.]]\n",
            "\n",
            " [[1. 1. 1. 1. 1.]\n",
            "  [1. 1. 1. 1. 1.]\n",
            "  [1. 1. 1. 1. 1.]\n",
            "  [1. 1. 1. 1. 1.]\n",
            "  [1. 1. 1. 1. 1.]]\n",
            "\n",
            " [[1. 1. 1. 1. 1.]\n",
            "  [1. 1. 1. 1. 1.]\n",
            "  [1. 1. 1. 1. 1.]\n",
            "  [1. 1. 1. 1. 1.]\n",
            "  [1. 1. 1. 1. 1.]]]\n"
          ],
          "name": "stdout"
        }
      ]
    },
    {
      "cell_type": "code",
      "metadata": {
        "id": "jGh4fmxZvwji"
      },
      "source": [
        ""
      ],
      "execution_count": null,
      "outputs": []
    }
  ]
}